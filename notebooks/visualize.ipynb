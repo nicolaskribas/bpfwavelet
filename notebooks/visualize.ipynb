{
 "cells": [
  {
   "cell_type": "code",
   "execution_count": null,
   "id": "651d0682-4515-431b-a2e1-940a3bfe70bc",
   "metadata": {},
   "outputs": [],
   "source": [
    "import seaborn.objects as so\n",
    "import json\n",
    "import pandas as pd\n",
    "import glob\n",
    "from pandas import DataFrame\n",
    "import re\n",
    "from itables import init_notebook_mode\n",
    "\n",
    "init_notebook_mode(all_interactive=True)"
   ]
  },
  {
   "cell_type": "code",
   "execution_count": null,
   "id": "73a41356-69f9-4dbf-b09b-4b9e9acfc496",
   "metadata": {},
   "outputs": [],
   "source": [
    "# Load results\n",
    "\n",
    "results_folder = \"../results\"\n",
    "\n",
    "# results/<tag>/<timestamp>/<size>.json\n",
    "file_patter = re.compile(f\"{results_folder}/([^/]+)/([^/]+)/([^/]+).json\")\n",
    "file_glob = f\"{results_folder}/*/*/*.json\"\n",
    "\n",
    "\n",
    "def json_into_df(file_path: str) -> DataFrame:\n",
    "    match = file_patter.fullmatch(file_path)\n",
    "    if match is None:\n",
    "        raise\n",
    "\n",
    "    with open(file_path) as file:\n",
    "        data = json.load(file)\n",
    "\n",
    "    df = pd.json_normalize(data)\n",
    "    df[\"tag\"] = match.group(1)\n",
    "    df[\"timestamp\"] = match.group(2)\n",
    "    df[\"size\"] = int(match.group(3))\n",
    "    df[\"tag/timestamp\"] = df[\"tag\"] + '/' + df[\"timestamp\"]\n",
    "    return df\n",
    "\n",
    "\n",
    "def get_all_results():\n",
    "    jsons = glob.glob(file_glob)\n",
    "    dfs = map(json_into_df, jsons)\n",
    "    return pd.concat(dfs, ignore_index=True)\n",
    "\n",
    "\n",
    "df = get_all_results()"
   ]
  },
  {
   "cell_type": "code",
   "execution_count": null,
   "id": "69310513-3c3d-4af8-afc3-5287a5f0d230",
   "metadata": {},
   "outputs": [],
   "source": [
    "# Derive metrics\n",
    "\n",
    "def fix(row):\n",
    "    try:\n",
    "        return int(row.rate.removesuffix(\"bps\"))\n",
    "    except:\n",
    "        return None\n",
    "\n",
    "\n",
    "df[\"rate_bps\"] = df.apply(fix, axis=1)\n",
    "\n",
    "df['rate_gbps'] = df['rate_bps'] / 1000**3\n",
    "\n",
    "df['actual_duration_s'] = df['actual_duration_ms'] / 1000\n",
    "\n",
    "df['pps_out'] = df['stats.total.opackets'] / df['actual_duration_s']\n",
    "df['mpps_out'] = df['pps_out'] / 1000000\n",
    "\n",
    "df['pps'] = df['stats.total.ipackets'] / df['actual_duration_s']\n",
    "df['mpps'] = df['pps'] / 1000000\n",
    "\n",
    "df['actual_rate_bps_out'] = (df['stats.total.obytes'] * 8) / df['actual_duration_s']\n",
    "df['actual_rate_gbps_out'] = df['actual_rate_bps_out'] / 1000**3\n",
    "\n",
    "df['actual_rate_bps'] = (df['stats.total.ibytes'] * 8) / df['actual_duration_s']\n",
    "df['actual_rate_gbps'] = df['actual_rate_bps'] / 1000**3\n",
    "\n",
    "df['gap'] = df['actual_rate_bps_out'] / df['rate_bps'] * 100"
   ]
  },
  {
   "cell_type": "code",
   "execution_count": null,
   "id": "76e454ab-ff58-4ed5-ada8-a1ec3641f238",
   "metadata": {},
   "outputs": [],
   "source": [
    "for run in df['tag/timestamp'].unique():\n",
    "    for size in df['size'].unique():\n",
    "        (so.Plot(df[(df['tag/timestamp'] == run) &  (df['size'] == size)].melt(id_vars= ['iteration'], value_vars=['actual_rate_gbps', 'actual_rate_gbps_out', 'rate_gbps'], var_name='in_out', value_name='y'), x='iteration', y ='y', color='in_out')\n",
    "         .add(so.Line())\n",
    "         .label(title=f\"{run} {size} bytes\")\n",
    "        ).show()"
   ]
  },
  {
   "cell_type": "code",
   "execution_count": null,
   "id": "31bb4d4c-b9f9-4dd4-ba8b-56a4a3e78db6",
   "metadata": {},
   "outputs": [],
   "source": [
    "so.Plot(df.loc[df.groupby([\"tag\", 'timestamp', 'size'])['iteration'].idxmax()], x='size', y='actual_rate_gbps', color='tag/timestamp').add(so.Line())"
   ]
  },
  {
   "cell_type": "code",
   "execution_count": null,
   "id": "312ca766-e6f9-4a4e-a42c-2a689e96dc07",
   "metadata": {},
   "outputs": [],
   "source": [
    "so.Plot(df.loc[df.groupby([\"tag\", 'timestamp', 'size'])['iteration'].idxmax()], x='size', y='actual_rate_gbps_out', color='tag/timestamp').add(so.Line())"
   ]
  },
  {
   "cell_type": "code",
   "execution_count": null,
   "id": "e7d144c3-1ca3-459f-9b75-48c59b7392ba",
   "metadata": {},
   "outputs": [],
   "source": [
    "so.Plot(df.loc[df.groupby([\"tag\", 'timestamp', 'size'])['iteration'].idxmax()], x='size', y='mpps', color='tag/timestamp').add(so.Line())"
   ]
  },
  {
   "cell_type": "code",
   "execution_count": null,
   "id": "39908158-0b5b-4d6a-bfc2-48cbecc5fca7",
   "metadata": {},
   "outputs": [],
   "source": [
    "so.Plot(df.loc[df.groupby([\"tag\", 'timestamp', 'size'])['iteration'].idxmax()], x='size', y='mpps_out', color='tag/timestamp').add(so.Line())"
   ]
  },
  {
   "cell_type": "code",
   "execution_count": null,
   "id": "81637f5a-f2ef-4329-a96a-67fe5832389d",
   "metadata": {},
   "outputs": [],
   "source": [
    "so.Plot(df.loc[df.groupby([\"tag\", 'timestamp', 'size'])['iteration'].idxmax()], x='size', y='rate_gbps', color='tag/timestamp').add(so.Line())"
   ]
  },
  {
   "cell_type": "code",
   "execution_count": null,
   "id": "4956c674-3b46-4ded-886d-8314ee9b1d09",
   "metadata": {},
   "outputs": [],
   "source": [
    "so.Plot(df.loc[df.groupby([\"tag\", 'timestamp', 'size'])['iteration'].idxmax()], x='size', y='stats.latency.0.latency.average', ymin='stats.latency.0.latency.total_min', ymax='stats.latency.0.latency.l', color='tag/timestamp').add(so.Line()).add(so.Band())"
   ]
  }
 ],
 "metadata": {
  "kernelspec": {
   "display_name": "Python 3 (ipykernel)",
   "language": "python",
   "name": "python3"
  },
  "language_info": {
   "codemirror_mode": {
    "name": "ipython",
    "version": 3
   },
   "file_extension": ".py",
   "mimetype": "text/x-python",
   "name": "python",
   "nbconvert_exporter": "python",
   "pygments_lexer": "ipython3",
   "version": "3.11.12"
  }
 },
 "nbformat": 4,
 "nbformat_minor": 5
}
