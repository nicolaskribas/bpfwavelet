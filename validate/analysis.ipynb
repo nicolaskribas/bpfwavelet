{
 "cells": [
  {
   "cell_type": "code",
   "execution_count": null,
   "id": "d54ee5bc-b450-4417-8ce8-f60abf960d91",
   "metadata": {},
   "outputs": [],
   "source": [
    "import math\n",
    "from pathlib import Path\n",
    "\n",
    "import ipywidgets as widgets\n",
    "import pandas as pd\n",
    "import seaborn.objects as so\n",
    "from itables import init_notebook_mode\n",
    "\n",
    "init_notebook_mode(all_interactive=True)"
   ]
  },
  {
   "cell_type": "code",
   "execution_count": null,
   "id": "e86460ca-f034-458b-b362-528aa421bf67",
   "metadata": {},
   "outputs": [],
   "source": [
    "logs = [f for f in Path(\"results\").iterdir() if f.is_file()]\n",
    "\n",
    "data = []\n",
    "for log in logs:\n",
    "    stream = open(log)\n",
    "    while line := stream.readline():\n",
    "        words = line.split()\n",
    "        if words[1] == \"detected\":\n",
    "            timestamp = words[0]\n",
    "            level = words[3]\n",
    "            data.append([log.name, \"detection\", timestamp, level])\n",
    "        elif words[1] == \"debug\":\n",
    "            timestamp = words[0]\n",
    "            idx = int(words[3])\n",
    "            sample = int(words[5])\n",
    "\n",
    "            w = [int(x) for x in stream.readline().split()[1:]]\n",
    "            s = [int(x) for x in stream.readline().split()[1:]]\n",
    "            decomposition_level = list(range(len(s)))\n",
    "            data.append(\n",
    "                [\n",
    "                    log.name,\n",
    "                    \"debug\",\n",
    "                    timestamp,\n",
    "                    math.nan,\n",
    "                    idx,\n",
    "                    sample,\n",
    "                    decomposition_level,\n",
    "                    w,\n",
    "                    s,\n",
    "                ]\n",
    "            )\n",
    "        else:\n",
    "            print(\"bug in parsing\", file=sys.stderr)"
   ]
  },
  {
   "cell_type": "code",
   "execution_count": null,
   "id": "8d9754cb-ebb0-4041-b281-aa901e3f23ed",
   "metadata": {
    "scrolled": true
   },
   "outputs": [],
   "source": [
    "df = pd.DataFrame(\n",
    "    data,\n",
    "    columns=[\n",
    "        \"capture\",\n",
    "        \"type\",\n",
    "        \"timestamp\",\n",
    "        \"detected_level\",\n",
    "        \"index\",\n",
    "        \"sample\",\n",
    "        \"decomposition_level\",\n",
    "        \"w\",\n",
    "        \"s\",\n",
    "    ],\n",
    ")"
   ]
  },
  {
   "cell_type": "code",
   "execution_count": null,
   "id": "5aa18616-65ca-4aca-b0f1-f08f9baa91ab",
   "metadata": {},
   "outputs": [],
   "source": [
    "df = df.explode([\"decomposition_level\", \"w\", \"s\"], ignore_index=True)\n",
    "\n",
    "df[\"capture\"] = df[\"capture\"].astype(\"category\")\n",
    "df[\"type\"] = df[\"type\"].astype(\"category\")\n",
    "df[\"timestamp\"] = pd.to_datetime(df[\"timestamp\"])\n",
    "df[\"detected_level\"] = df[\"detected_level\"].astype(\"Int64\")\n",
    "df[\"decomposition_level\"] = df[\"decomposition_level\"].astype(\"Int64\")\n",
    "df[\"index\"] = df[\"index\"].astype(\"Int64\")\n",
    "df[\"sample\"] = df[\"sample\"].astype(\"Int64\")\n",
    "df[\"w\"] = df[\"w\"].astype(\"Int64\")\n",
    "df[\"s\"] = df[\"s\"].astype(\"Int64\")\n",
    "df"
   ]
  },
  {
   "cell_type": "code",
   "execution_count": null,
   "id": "0c543564-aa73-48ff-be35-05dffaa9968e",
   "metadata": {},
   "outputs": [],
   "source": [
    "captures = df[\"capture\"].unique()\n",
    "timestamps = {}\n",
    "for capture in captures:\n",
    "    timestamps[capture] = df[df[\"capture\"] == capture][\"timestamp\"]\n",
    "\n",
    "initial_capture = captures[0]\n",
    "initial_timestamps = df[df[\"capture\"] == initial_capture][\"timestamp\"]\n",
    "\n",
    "capture_dropdown = widgets.Dropdown(options=captures, description=\"Capture:\")\n",
    "\n",
    "timestamp_slider = widgets.SelectionSlider(\n",
    "    options=initial_timestamps, description=\"Timestamp\", layout={\"width\": \"800px\"}\n",
    ")\n",
    "\n",
    "\n",
    "def update_timestamp_options(change):\n",
    "    selected_capture = change[\"new\"]\n",
    "    timestamp_slider.options = timestamps[selected_capture]\n",
    "\n",
    "\n",
    "capture_dropdown.observe(update_timestamp_options, names=\"value\")\n",
    "\n",
    "\n",
    "def update_plot(capture, timestamp):\n",
    "    filtered_data = df[(df[\"capture\"] == capture) & (df[\"timestamp\"] == timestamp)]\n",
    "\n",
    "    p = so.Plot(filtered_data, \"decomposition_level\", \"s\").add(so.Line()).add(so.Dots())\n",
    "    display(p)\n",
    "\n",
    "\n",
    "widgets.interactive(update_plot, capture=capture_dropdown, timestamp=timestamp_slider)"
   ]
  }
 ],
 "metadata": {
  "kernelspec": {
   "display_name": "Python 3 (ipykernel)",
   "language": "python",
   "name": "python3"
  },
  "language_info": {
   "codemirror_mode": {
    "name": "ipython",
    "version": 3
   },
   "file_extension": ".py",
   "mimetype": "text/x-python",
   "name": "python",
   "nbconvert_exporter": "python",
   "pygments_lexer": "ipython3",
   "version": "3.13.5"
  }
 },
 "nbformat": 4,
 "nbformat_minor": 5
}
