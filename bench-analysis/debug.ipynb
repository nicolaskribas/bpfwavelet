{
 "cells": [
  {
   "cell_type": "code",
   "execution_count": null,
   "id": "2fd4d80c-78b1-4ef6-9aeb-a97b870bd257",
   "metadata": {
    "editable": true,
    "slideshow": {
     "slide_type": ""
    },
    "tags": []
   },
   "outputs": [],
   "source": [
    "import seaborn.objects as so\n",
    "import json\n",
    "import pandas as pd\n",
    "import glob\n",
    "from pandas import DataFrame\n",
    "import re\n",
    "from itables import init_notebook_mode\n",
    "\n",
    "init_notebook_mode(all_interactive=True)"
   ]
  },
  {
   "cell_type": "code",
   "execution_count": null,
   "id": "f12a9c27-200a-4c20-a872-e850b5d12922",
   "metadata": {},
   "outputs": [],
   "source": [
    "file_patter = re.compile(\"../results/([^/]+)/([^/]+)/([^/]+).json\")\n",
    "\n",
    "\n",
    "def get_results_into_df(file_path: str) -> DataFrame:\n",
    "    match = file_patter.fullmatch(file_path)\n",
    "    if match is None:\n",
    "        raise\n",
    "\n",
    "    with open(file_path) as file:\n",
    "        data = json.load(file)\n",
    "        df = pd.json_normalize(data)\n",
    "        df[\"tag\"] = match.group(1)\n",
    "        df[\"timestamp\"] = match.group(2)\n",
    "        df[\"size\"] = int(match.group(3))\n",
    "        return df\n",
    "\n",
    "\n",
    "# results/<tag>/<timestamp>/<size>.json\n",
    "results_df = pd.concat(map(get_results_into_df, glob.glob(\"../results/*/*/*.json\")))"
   ]
  },
  {
   "cell_type": "code",
   "execution_count": null,
   "id": "1f1510bf-4aa4-46a6-b210-acdc6c896910",
   "metadata": {},
   "outputs": [],
   "source": [
    "results_df[['tag', 'timestamp']].groupby(['tag', 'timestamp']).first()"
   ]
  },
  {
   "cell_type": "code",
   "execution_count": null,
   "id": "a93f525c-a0d0-4069-8175-857b8b695b0b",
   "metadata": {},
   "outputs": [],
   "source": [
    "df = results_df[(results_df['tag'] == 'xdp-bench-tx') & (results_df['timestamp'] == '2025-04-23T17:05:29-03:00') & (results_df['size'] == 64)]"
   ]
  },
  {
   "cell_type": "code",
   "execution_count": null,
   "id": "1301a163-23b6-4154-9706-5ff9a66940a2",
   "metadata": {},
   "outputs": [],
   "source": [
    "df[[\"iteration\", \"expected_duration_ms\", \"timeout_ms\", \"actual_duration_ms\", \"stopped_early\", \"rx_delay_ms\", \"rate\", \"stats.global.tx_bps\", \"stats.global.rx_bps\", \"stats.total.opackets\", \"stats.total.ipackets\", \"lost\", \"lost_percentage\"]]"
   ]
  },
  {
   "cell_type": "code",
   "execution_count": null,
   "id": "296ff20c-a2c8-4803-afb6-ac71fc54f8ad",
   "metadata": {},
   "outputs": [],
   "source": [
    "df"
   ]
  },
  {
   "cell_type": "code",
   "execution_count": null,
   "id": "65c6b6c3-2672-4775-9ba8-b371678b3fbd",
   "metadata": {},
   "outputs": [],
   "source": [
    "for column in df.columns.array.tolist():\n",
    "    try:\n",
    "        plot = so.Plot(df, x='iteration', y=column).add(so.Dot()).label(title=column)\n",
    "        plot.show()\n",
    "    except Exception:\n",
    "        print(\"error in collumn\" + column)\n"
   ]
  },
  {
   "cell_type": "code",
   "execution_count": null,
   "id": "772aff76-117e-45ae-96e5-0e11ab0a19f3",
   "metadata": {},
   "outputs": [],
   "source": [
    "#(so.Plot(df, x='iteration', y='stats.global.rx_core_pps', color=\"tag\")\n",
    "#.add(so.Dot()))"
   ]
  },
  {
   "cell_type": "code",
   "execution_count": null,
   "id": "5eb92445-3a1b-47a4-b377-22a32ebb26f7",
   "metadata": {},
   "outputs": [],
   "source": [
    "#for column in df.columns.array.tolist():\n",
    "#    try:\n",
    "#        plot = so.Plot(df, x='iteration', y=column).add(so.Dot())\n",
    "#        plot.show()\n",
    "#    except Exception:\n",
    "#        print(\"error in collumn\" + column)"
   ]
  }
 ],
 "metadata": {
  "kernelspec": {
   "display_name": "Python 3 (ipykernel)",
   "language": "python",
   "name": "python3"
  },
  "language_info": {
   "codemirror_mode": {
    "name": "ipython",
    "version": 3
   },
   "file_extension": ".py",
   "mimetype": "text/x-python",
   "name": "python",
   "nbconvert_exporter": "python",
   "pygments_lexer": "ipython3",
   "version": "3.11.12"
  }
 },
 "nbformat": 4,
 "nbformat_minor": 5
}
